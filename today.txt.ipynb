{
 "cells": [
  {
   "cell_type": "code",
   "execution_count": 1,
   "id": "423fa242",
   "metadata": {},
   "outputs": [
    {
     "name": "stdout",
     "output_type": "stream",
     "text": [
      "2023-07-12\n"
     ]
    }
   ],
   "source": [
    "13.1-13.3\n",
    "import datetime\n",
    "\n",
    "# Write current date to today.txt\n",
    "current_date = datetime.date.today()\n",
    "with open('today.txt', 'w') as file:\n",
    "    file.write(str(current_date))\n",
    "\n",
    "# Read today.txt into today_string\n",
    "with open('today.txt', 'r') as file:\n",
    "    today_string = file.read()\n",
    "\n",
    "# Parse the date from today_string\n",
    "parsed_date = datetime.datetime.strptime(today_string, '%Y-%m-%d').date()\n",
    "\n",
    "# Print the parsed date\n",
    "print(parsed_date)"
   ]
  },
  {
   "cell_type": "code",
   "execution_count": 2,
   "id": "f2ffc6ed",
   "metadata": {},
   "outputs": [],
   "source": [
    "15.1 \n",
    "import multiprocessing\n",
    "import random\n",
    "import time\n",
    "from datetime import datetime\n",
    "\n",
    "def wait_and_print():\n",
    "    wait_time = random.random()  # Generate a random number between 0 and 1\n",
    "    time.sleep(wait_time)  # Wait for the random number of seconds\n",
    "    current_time = datetime.now().strftime(\"%H:%M:%S\")  # Get the current time\n",
    "    print(\"Current time:\", current_time)  # Print the current time\n",
    "\n",
    "if __name__ == '__main__':\n",
    "    processes = []\n",
    "    \n",
    "    # Create three separate processes\n",
    "    for _ in range(3):\n",
    "        p = multiprocessing.Process(target=wait_and_print)\n",
    "        processes.append(p)\n",
    "        p.start()\n",
    "\n",
    "    # Wait for all processes to finish\n",
    "    for p in processes:\n",
    "        p.join()"
   ]
  }
 ],
 "metadata": {
  "kernelspec": {
   "display_name": "Python 3 (ipykernel)",
   "language": "python",
   "name": "python3"
  },
  "language_info": {
   "codemirror_mode": {
    "name": "ipython",
    "version": 3
   },
   "file_extension": ".py",
   "mimetype": "text/x-python",
   "name": "python",
   "nbconvert_exporter": "python",
   "pygments_lexer": "ipython3",
   "version": "3.10.9"
  }
 },
 "nbformat": 4,
 "nbformat_minor": 5
}
